{
 "cells": [
  {
   "cell_type": "code",
   "execution_count": 1,
   "metadata": {},
   "outputs": [],
   "source": [
    "stu1 = {\n",
    "    '姓名':'陳怡伶',\n",
    "    '國文':89,\n",
    "    '英文':92,\n",
    "    '數學':83,\n",
    "    '地理':91,\n",
    "    '歷史':65,\n",
    "    }\n",
    "\n",
    "stu2 = {\n",
    "    '姓名':'馮芳如',\n",
    "    '國文':92,\n",
    "    '英文':75,\n",
    "    '數學':92,\n",
    "    '地理':89,\n",
    "    '歷史':77,\n",
    "    }"
   ]
  },
  {
   "cell_type": "code",
   "execution_count": 2,
   "metadata": {},
   "outputs": [
    {
     "data": {
      "text/plain": [
       "[{'姓名': '陳怡伶', '國文': 89, '英文': 92, '數學': 83, '地理': 91, '歷史': 65},\n",
       " {'姓名': '馮芳如', '國文': 92, '英文': 75, '數學': 92, '地理': 89, '歷史': 77}]"
      ]
     },
     "execution_count": 2,
     "metadata": {},
     "output_type": "execute_result"
    }
   ],
   "source": [
    "students = [stu1,stu2]\n",
    "students"
   ]
  },
  {
   "cell_type": "code",
   "execution_count": 3,
   "metadata": {},
   "outputs": [
    {
     "data": {
      "text/plain": [
       "[{'姓名': '陳怡伶', '國文': 89, '英文': 92, '數學': 83, '地理': 91, '歷史': 65},\n",
       " {'姓名': '馮芳如', '國文': 92, '英文': 75, '數學': 92, '地理': 89, '歷史': 77}]"
      ]
     },
     "execution_count": 3,
     "metadata": {},
     "output_type": "execute_result"
    }
   ],
   "source": [
    "def getStudents() -> list[dict]:\n",
    "    stu1 = {\n",
    "        '姓名':'陳怡伶',\n",
    "        '國文':89,\n",
    "        '英文':92,\n",
    "        '數學':83,\n",
    "        '地理':91,\n",
    "        '歷史':65,\n",
    "    }\n",
    "\n",
    "    stu2 = {\n",
    "        '姓名':'馮芳如',\n",
    "        '國文':92,\n",
    "        '英文':75,\n",
    "        '數學':92,\n",
    "        '地理':89,\n",
    "        '歷史':77,\n",
    "        }\n",
    "    students = [stu1,stu2]\n",
    "    return students\n",
    "\n",
    "getStudents()"
   ]
  },
  {
   "cell_type": "code",
   "execution_count": 4,
   "metadata": {},
   "outputs": [
    {
     "data": {
      "text/plain": [
       "[{'姓名': '陳怡伶', '國文': 89, '英文': 92, '數學': 83, '地理': 91, '歷史': 65},\n",
       " {'姓名': '馮芳如', '國文': 92, '英文': 75, '數學': 92, '地理': 89, '歷史': 77}]"
      ]
     },
     "execution_count": 4,
     "metadata": {},
     "output_type": "execute_result"
    }
   ],
   "source": [
    "def getStudents() -> list[dict]:\n",
    "    stu1 = {\n",
    "        '姓名':'陳怡伶',\n",
    "        '國文':89,\n",
    "        '英文':92,\n",
    "        '數學':83,\n",
    "        '地理':91,\n",
    "        '歷史':65,\n",
    "    }\n",
    "\n",
    "    stu2 = {\n",
    "        '姓名':'馮芳如',\n",
    "        '國文':92,\n",
    "        '英文':75,\n",
    "        '數學':92,\n",
    "        '地理':89,\n",
    "        '歷史':77,\n",
    "        }\n",
    "    students = []\n",
    "    students.append(stu1)\n",
    "    students.append(stu2)\n",
    "    return students\n",
    "\n",
    "getStudents()"
   ]
  },
  {
   "cell_type": "code",
   "execution_count": 5,
   "metadata": {},
   "outputs": [
    {
     "data": {
      "text/plain": [
       "[{'姓名': '陳怡伶', '國文': 89, '英文': 92, '數學': 83, '地理': 91, '歷史': 65},\n",
       " {'姓名': '陳怡伶', '國文': 89, '英文': 92, '數學': 83, '地理': 91, '歷史': 65}]"
      ]
     },
     "execution_count": 5,
     "metadata": {},
     "output_type": "execute_result"
    }
   ],
   "source": [
    "def getStudents() -> list[dict]:  \n",
    "    students = []\n",
    "    for i in range(2):\n",
    "        stu = {\n",
    "        '姓名':'陳怡伶',\n",
    "        '國文':89,\n",
    "        '英文':92,\n",
    "        '數學':83,\n",
    "        '地理':91,\n",
    "        '歷史':65,\n",
    "        }\n",
    "        students.append(stu)\n",
    "        \n",
    "    return students\n",
    "\n",
    "getStudents()"
   ]
  },
  {
   "cell_type": "code",
   "execution_count": 6,
   "metadata": {},
   "outputs": [
    {
     "data": {
      "text/plain": [
       "[{'姓名': '陳怡伶', '國文': 56, '英文': 50, '數學': 84, '地理': 48, '歷史': 81},\n",
       " {'姓名': '陳怡伶', '國文': 45, '英文': 81, '數學': 64, '地理': 98, '歷史': 92}]"
      ]
     },
     "execution_count": 6,
     "metadata": {},
     "output_type": "execute_result"
    }
   ],
   "source": [
    "from random import randint\n",
    "\n",
    "def getStudents() -> list[dict]:  \n",
    "    students = []\n",
    "    for i in range(2):\n",
    "        stu = {\n",
    "        '姓名':'陳怡伶',\n",
    "        '國文':randint(45,100),\n",
    "        '英文':randint(45,100),\n",
    "        '數學':randint(45,100),\n",
    "        '地理':randint(45,100),\n",
    "        '歷史':randint(45,100),\n",
    "        }\n",
    "        students.append(stu)\n",
    "        \n",
    "    return students\n",
    "\n",
    "getStudents()"
   ]
  },
  {
   "cell_type": "code",
   "execution_count": 7,
   "metadata": {},
   "outputs": [
    {
     "data": {
      "text/plain": [
       "[{'姓名': '陳怡伶', '國文': 75, '英文': 81, '數學': 94, '地理': 49, '歷史': 74},\n",
       " {'姓名': '馮芳如', '國文': 90, '英文': 55, '數學': 81, '地理': 88, '歷史': 92}]"
      ]
     },
     "execution_count": 7,
     "metadata": {},
     "output_type": "execute_result"
    }
   ],
   "source": [
    "from random import randint\n",
    "\n",
    "def getStudents() -> list[dict]:  \n",
    "    students = []\n",
    "    names = ['陳怡伶','馮芳如']\n",
    "    for i in range(2):\n",
    "        stu = {\n",
    "        '姓名':names[i],\n",
    "        '國文':randint(45,100),\n",
    "        '英文':randint(45,100),\n",
    "        '數學':randint(45,100),\n",
    "        '地理':randint(45,100),\n",
    "        '歷史':randint(45,100),\n",
    "        }\n",
    "        students.append(stu)\n",
    "        \n",
    "    return students\n",
    "\n",
    "getStudents()"
   ]
  },
  {
   "cell_type": "code",
   "execution_count": 8,
   "metadata": {},
   "outputs": [
    {
     "data": {
      "text/plain": [
       "[{'姓名': '林柏洋', '國文': 84, '英文': 62, '數學': 56, '地理': 80, '歷史': 69},\n",
       " {'姓名': '黃淑芬', '國文': 56, '英文': 89, '數學': 45, '地理': 67, '歷史': 53}]"
      ]
     },
     "execution_count": 8,
     "metadata": {},
     "output_type": "execute_result"
    }
   ],
   "source": [
    "from random import randint,choices\n",
    "\n",
    "def getStudents() -> list[dict]:  \n",
    "    students = []\n",
    "    with open('names.txt',mode='r',encoding='utf-8') as file:\n",
    "        names:str = file.read()\n",
    "    nameList:list[str] = names.split('\\n')\n",
    "    names = choices(nameList,k=2)\n",
    "    \n",
    "    for i in range(2):\n",
    "        stu = {\n",
    "        '姓名':names[i],\n",
    "        '國文':randint(45,100),\n",
    "        '英文':randint(45,100),\n",
    "        '數學':randint(45,100),\n",
    "        '地理':randint(45,100),\n",
    "        '歷史':randint(45,100),\n",
    "        }\n",
    "        students.append(stu)\n",
    "        \n",
    "    return students\n",
    "\n",
    "getStudents()"
   ]
  },
  {
   "cell_type": "code",
   "execution_count": 10,
   "metadata": {},
   "outputs": [
    {
     "data": {
      "text/plain": [
       "[{'姓名': '林淑安', '國文': 69, '英文': 92, '數學': 87, '地理': 70, '歷史': 90},\n",
       " {'姓名': '陳怡容', '國文': 50, '英文': 83, '數學': 50, '地理': 52, '歷史': 72},\n",
       " {'姓名': '陳凱翔', '國文': 54, '英文': 100, '數學': 86, '地理': 93, '歷史': 45},\n",
       " {'姓名': '吳麗卿', '國文': 59, '英文': 56, '數學': 68, '地理': 66, '歷史': 61},\n",
       " {'姓名': '劉嘉泰', '國文': 45, '英文': 88, '數學': 83, '地理': 54, '歷史': 48},\n",
       " {'姓名': '賴佳雯', '國文': 45, '英文': 68, '數學': 65, '地理': 69, '歷史': 97},\n",
       " {'姓名': '朱惠儀', '國文': 55, '英文': 92, '數學': 50, '地理': 62, '歷史': 63},\n",
       " {'姓名': '羅幸娥', '國文': 93, '英文': 75, '數學': 62, '地理': 49, '歷史': 93},\n",
       " {'姓名': '馮芳如', '國文': 84, '英文': 92, '數學': 97, '地理': 78, '歷史': 67},\n",
       " {'姓名': '余宗儒', '國文': 54, '英文': 61, '數學': 78, '地理': 56, '歷史': 69},\n",
       " {'姓名': '張莉雯', '國文': 48, '英文': 55, '數學': 57, '地理': 60, '歷史': 59},\n",
       " {'姓名': '陳怡容', '國文': 92, '英文': 83, '數學': 73, '地理': 69, '歷史': 47},\n",
       " {'姓名': '朱彥志', '國文': 87, '英文': 49, '數學': 55, '地理': 89, '歷史': 79},\n",
       " {'姓名': '張雅芬', '國文': 88, '英文': 98, '數學': 66, '地理': 54, '歷史': 57},\n",
       " {'姓名': '臧怡君', '國文': 61, '英文': 59, '數學': 45, '地理': 56, '歷史': 64},\n",
       " {'姓名': '張凡成', '國文': 85, '英文': 68, '數學': 55, '地理': 61, '歷史': 91},\n",
       " {'姓名': '張牧聿', '國文': 45, '英文': 67, '數學': 73, '地理': 52, '歷史': 96},\n",
       " {'姓名': '李彥伸', '國文': 88, '英文': 53, '數學': 57, '地理': 94, '歷史': 96},\n",
       " {'姓名': '劉雯芬', '國文': 61, '英文': 94, '數學': 59, '地理': 54, '歷史': 64},\n",
       " {'姓名': '李政成', '國文': 79, '英文': 64, '數學': 75, '地理': 69, '歷史': 90},\n",
       " {'姓名': '林佳蓉', '國文': 51, '英文': 54, '數學': 46, '地理': 89, '歷史': 84},\n",
       " {'姓名': '張慧君', '國文': 74, '英文': 69, '數學': 57, '地理': 48, '歷史': 100},\n",
       " {'姓名': '楊火帆', '國文': 83, '英文': 59, '數學': 84, '地理': 49, '歷史': 97},\n",
       " {'姓名': '賴苑禾', '國文': 67, '英文': 56, '數學': 45, '地理': 91, '歷史': 92},\n",
       " {'姓名': '艾巧夫', '國文': 52, '英文': 62, '數學': 79, '地理': 73, '歷史': 57},\n",
       " {'姓名': '謝哲維', '國文': 49, '英文': 83, '數學': 60, '地理': 87, '歷史': 81},\n",
       " {'姓名': '李雅怡', '國文': 83, '英文': 47, '數學': 67, '地理': 80, '歷史': 99},\n",
       " {'姓名': '邱亭君', '國文': 89, '英文': 69, '數學': 99, '地理': 58, '歷史': 48},\n",
       " {'姓名': '黃名明', '國文': 69, '英文': 78, '數學': 89, '地理': 81, '歷史': 63},\n",
       " {'姓名': '楊綺芬', '國文': 99, '英文': 51, '數學': 52, '地理': 57, '歷史': 97},\n",
       " {'姓名': '吳麗卿', '國文': 69, '英文': 47, '數學': 74, '地理': 53, '歷史': 89},\n",
       " {'姓名': '林佳光', '國文': 54, '英文': 68, '數學': 83, '地理': 98, '歷史': 98},\n",
       " {'姓名': '張慧君', '國文': 87, '英文': 53, '數學': 85, '地理': 98, '歷史': 45},\n",
       " {'姓名': '楊又源', '國文': 80, '英文': 47, '數學': 56, '地理': 72, '歷史': 69},\n",
       " {'姓名': '陳孝邦', '國文': 91, '英文': 55, '數學': 74, '地理': 94, '歷史': 98},\n",
       " {'姓名': '蔡嘉音', '國文': 99, '英文': 93, '數學': 83, '地理': 94, '歷史': 96},\n",
       " {'姓名': '林佳光', '國文': 83, '英文': 69, '數學': 96, '地理': 92, '歷史': 70},\n",
       " {'姓名': '簡美君', '國文': 71, '英文': 58, '數學': 48, '地理': 80, '歷史': 91},\n",
       " {'姓名': '李立偉', '國文': 51, '英文': 52, '數學': 97, '地理': 83, '歷史': 61},\n",
       " {'姓名': '陳嘉淑', '國文': 69, '英文': 68, '數學': 84, '地理': 84, '歷史': 89},\n",
       " {'姓名': '蘇凡菁', '國文': 53, '英文': 59, '數學': 91, '地理': 86, '歷史': 60},\n",
       " {'姓名': '許淑婷', '國文': 98, '英文': 56, '數學': 62, '地理': 61, '歷史': 94},\n",
       " {'姓名': '陳樂紫', '國文': 63, '英文': 70, '數學': 63, '地理': 83, '歷史': 80},\n",
       " {'姓名': '王雅琴', '國文': 58, '英文': 59, '數學': 52, '地理': 74, '歷史': 94},\n",
       " {'姓名': '唐雪豪', '國文': 84, '英文': 87, '數學': 54, '地理': 79, '歷史': 100},\n",
       " {'姓名': '郭舜昇', '國文': 87, '英文': 48, '數學': 67, '地理': 52, '歷史': 45},\n",
       " {'姓名': '林珍旺', '國文': 53, '英文': 100, '數學': 63, '地理': 77, '歷史': 94},\n",
       " {'姓名': '陳倩妮', '國文': 50, '英文': 53, '數學': 52, '地理': 63, '歷史': 56},\n",
       " {'姓名': '朱彥志', '國文': 90, '英文': 52, '數學': 76, '地理': 45, '歷史': 76},\n",
       " {'姓名': '李淑芳', '國文': 97, '英文': 47, '數學': 61, '地理': 73, '歷史': 69}]"
      ]
     },
     "execution_count": 10,
     "metadata": {},
     "output_type": "execute_result"
    }
   ],
   "source": [
    "from random import randint,choices\n",
    "\n",
    "def getStudents(nums:int) -> list[dict]:  \n",
    "    students:list[dict] = []\n",
    "    with open('names.txt',mode='r',encoding='utf-8') as file:\n",
    "        names:str = file.read()\n",
    "    nameList:list[str] = names.split('\\n')\n",
    "    names:list[str] = choices(nameList,k=nums)\n",
    "\n",
    "    for i in range(nums):\n",
    "        stu = {\n",
    "        '姓名':names[i],\n",
    "        '國文':randint(45,100),\n",
    "        '英文':randint(45,100),\n",
    "        '數學':randint(45,100),\n",
    "        '地理':randint(45,100),\n",
    "        '歷史':randint(45,100),\n",
    "        }\n",
    "        students.append(stu)\n",
    "        \n",
    "    return students\n",
    "\n",
    "students = getStudents(50)\n",
    "students"
   ]
  },
  {
   "cell_type": "code",
   "execution_count": 11,
   "metadata": {},
   "outputs": [
    {
     "name": "stdout",
     "output_type": "stream",
     "text": [
      "請輸入學生的人數(1~50):10\n"
     ]
    },
    {
     "data": {
      "text/plain": [
       "[{'姓名': '陳冠霞', '國文': 74, '英文': 62, '數學': 62, '地理': 77, '歷史': 55},\n",
       " {'姓名': '彭虹屏', '國文': 59, '英文': 54, '數學': 54, '地理': 89, '歷史': 53},\n",
       " {'姓名': '王坤安', '國文': 77, '英文': 94, '數學': 56, '地理': 60, '歷史': 65},\n",
       " {'姓名': '盧文啟', '國文': 66, '英文': 58, '數學': 46, '地理': 75, '歷史': 52},\n",
       " {'姓名': '溫法堯', '國文': 81, '英文': 52, '數學': 69, '地理': 70, '歷史': 65},\n",
       " {'姓名': '黃政甫', '國文': 77, '英文': 85, '數學': 84, '地理': 70, '歷史': 78},\n",
       " {'姓名': '鄧淑娟', '國文': 61, '英文': 78, '數學': 63, '地理': 53, '歷史': 46},\n",
       " {'姓名': '游治旺', '國文': 85, '英文': 74, '數學': 68, '地理': 72, '歷史': 85},\n",
       " {'姓名': '王人仰', '國文': 99, '英文': 51, '數學': 84, '地理': 97, '歷史': 58},\n",
       " {'姓名': '昌嘉洋', '國文': 60, '英文': 58, '數學': 92, '地理': 88, '歷史': 65}]"
      ]
     },
     "execution_count": 11,
     "metadata": {},
     "output_type": "execute_result"
    }
   ],
   "source": [
    "import pyinputplus as pyip\n",
    "s_nums:int = pyip.inputInt(\"請輸入學生的人數(1~50):\",min=1,max=50)\n",
    "print(s_nums)\n",
    "students = getStudents(s_nums)\n",
    "students"
   ]
  },
  {
   "cell_type": "code",
   "execution_count": 12,
   "metadata": {},
   "outputs": [
    {
     "name": "stdout",
     "output_type": "stream",
     "text": [
      "寫入成功\n"
     ]
    }
   ],
   "source": [
    "import csv\n",
    "with open(\"class1.csv\",mode='w',encoding='utf-8',newline='') as file:\n",
    "    fieldnames = ['姓名', '國文', '英文', '數學', '地理', '歷史']\n",
    "    writer = csv.DictWriter(file,fieldnames=fieldnames)\n",
    "    writer.writeheader()\n",
    "    writer.writerows(students)\n",
    "print(\"寫入成功\")"
   ]
  },
  {
   "cell_type": "code",
   "execution_count": 13,
   "metadata": {},
   "outputs": [
    {
     "name": "stdout",
     "output_type": "stream",
     "text": [
      "寫入成功\n"
     ]
    }
   ],
   "source": [
    "import csv\n",
    "from csv import DictWriter\n",
    "\n",
    "def save_to_csv(students:list[dict]):\n",
    "    with open(\"class1.csv\",mode='w',encoding='utf-8',newline='') as file:\n",
    "        fieldnames:list[str] = ['姓名', '國文', '英文', '數學', '地理', '歷史']\n",
    "        writer:DictWriter = csv.DictWriter(file,fieldnames=fieldnames)\n",
    "        writer.writeheader()\n",
    "        writer.writerows(students)\n",
    "    print(\"寫入成功\")\n",
    "\n",
    "save_to_csv(students)"
   ]
  },
  {
   "cell_type": "code",
   "execution_count": 14,
   "metadata": {},
   "outputs": [
    {
     "name": "stdout",
     "output_type": "stream",
     "text": [
      "寫入成功\n"
     ]
    }
   ],
   "source": [
    "import csv\n",
    "from csv import DictWriter\n",
    "\n",
    "def save_to_csv(students:list[dict],fileName:str)->None:    \n",
    "    fileNameWithExtension:str = fileName + '.csv'\n",
    "    with open(fileNameWithExtension,mode='w',encoding='utf-8',newline='') as file:\n",
    "        fieldnames:list[str] = ['姓名', '國文', '英文', '數學', '地理', '歷史']\n",
    "        writer:DictWriter = csv.DictWriter(file,fieldnames=fieldnames)\n",
    "        writer.writeheader()\n",
    "        writer.writerows(students)\n",
    "    print(\"寫入成功\")\n",
    "\n",
    "save_to_csv(students,'class2')"
   ]
  }
 ],
 "metadata": {
  "kernelspec": {
   "display_name": "Python 3",
   "language": "python",
   "name": "python3"
  },
  "language_info": {
   "codemirror_mode": {
    "name": "ipython",
    "version": 3
   },
   "file_extension": ".py",
   "mimetype": "text/x-python",
   "name": "python",
   "nbconvert_exporter": "python",
   "pygments_lexer": "ipython3",
   "version": "3.10.13"
  }
 },
 "nbformat": 4,
 "nbformat_minor": 2
}
