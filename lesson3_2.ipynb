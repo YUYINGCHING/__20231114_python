{
 "cells": [
  {
   "cell_type": "code",
   "execution_count": null,
   "metadata": {},
   "outputs": [],
   "source": [
    "n=5\n",
    "n=n+5\n",
    "n"
   ]
  },
  {
   "cell_type": "code",
   "execution_count": 3,
   "metadata": {},
   "outputs": [
    {
     "name": "stdout",
     "output_type": "stream",
     "text": [
      "3數相加的總和是[total]\n"
     ]
    }
   ],
   "source": [
    "total=0\n",
    "value=eval(input(\"請輸入第一個數值\"))\n",
    "total=total+value\n",
    "value=eval(input(\"請輸入第二個數值\"))\n",
    "total=total+value\n",
    "value=eval(input(\"請輸入第三個數值\"))\n",
    "total=total+value\n",
    "print(f\"3數相加的總和是{total}\")"
   ]
  },
  {
   "cell_type": "code",
   "execution_count": null,
   "metadata": {},
   "outputs": [],
   "source": [
    "#複合指定運算子\n",
    "total=0\n",
    "value=eval(input(\"請輸入第一個數值\"))\n",
    "total += value\n",
    "\n",
    "value=eval(input(\"請輸入第二個數值\"))\n",
    "total += value\n",
    "value=eval(input(\"請輸入第三個數值\"))\n",
    "total += value\n",
    "print(f\"3數相加的總和是{total}\")"
   ]
  },
  {
   "cell_type": "code",
   "execution_count": 4,
   "metadata": {},
   "outputs": [
    {
     "name": "stdout",
     "output_type": "stream",
     "text": [
      "對邊:50,斜邊:80\n",
      "角度為38.68\n"
     ]
    }
   ],
   "source": [
    "import math\n",
    "side = eval(input(\"請輸入對邊數值\"))\n",
    "another_side = eval (input(\"請輸入另一邊數值\"))\n",
    "\n",
    "radian =math.asin(side/another_side)\n",
    "degree=math.degrees(radian)\n",
    "\n",
    "print(f\"對邊:{side},斜邊:{another_side}\")\n",
    "print(f\"角度為{degree:.2f}\")"
   ]
  },
  {
   "cell_type": "code",
   "execution_count": 5,
   "metadata": {},
   "outputs": [
    {
     "data": {
      "text/plain": [
       "3.141592653589793"
      ]
     },
     "execution_count": 5,
     "metadata": {},
     "output_type": "execute_result"
    }
   ],
   "source": [
    "math.pi"
   ]
  },
  {
   "cell_type": "code",
   "execution_count": 6,
   "metadata": {},
   "outputs": [
    {
     "data": {
      "text/plain": [
       "2.718281828459045"
      ]
     },
     "execution_count": 6,
     "metadata": {},
     "output_type": "execute_result"
    }
   ],
   "source": [
    "math.e"
   ]
  }
 ],
 "metadata": {
  "kernelspec": {
   "display_name": "Python 3",
   "language": "python",
   "name": "python3"
  },
  "language_info": {
   "codemirror_mode": {
    "name": "ipython",
    "version": 3
   },
   "file_extension": ".py",
   "mimetype": "text/x-python",
   "name": "python",
   "nbconvert_exporter": "python",
   "pygments_lexer": "ipython3",
   "version": "3.10.13"
  }
 },
 "nbformat": 4,
 "nbformat_minor": 2
}
