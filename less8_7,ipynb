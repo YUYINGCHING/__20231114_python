l1 = list()
display(l1)
type(l1)