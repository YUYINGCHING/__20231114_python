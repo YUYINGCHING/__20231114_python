{
 "cells": [
  {
   "cell_type": "code",
   "execution_count": 1,
   "metadata": {},
   "outputs": [
    {
     "name": "stdout",
     "output_type": "stream",
     "text": [
      "請輸入身高，單位為公分:174.5\n",
      "請輸入體重，單位為公斤:71.5\n",
      "您的BMI是23.48,「您的體重正常」\n"
     ]
    }
   ],
   "source": [
    "import pyinputplus as pyip\n",
    "\n",
    "def getBMI(height:float, weight:float) -> tuple[float,str]:\n",
    "    BMI = weight / (height*0.01)**2\n",
    "    message = \"\"\n",
    "    if BMI < 18.5:\n",
    "        message = \"「您的體重過輕」\"\n",
    "    elif BMI < 24:        \n",
    "        message = \"「您的體重正常」\"\n",
    "    \n",
    "    elif BMI < 27:        \n",
    "        message = \"「您的體重過重」\"\n",
    "\n",
    "    elif BMI < 30:        \n",
    "        message = \"「您的體重輕度肥胖」\"\n",
    "\n",
    "    elif BMI < 35:        \n",
    "        message = \"「您的體重中度肥胖」\"\n",
    "\n",
    "    else:        \n",
    "        message = \"「您的體重重度肥胖」\"\n",
    "\n",
    "    return (BMI,message)\n",
    "\n",
    "    \n",
    "\n",
    "\n",
    "h = pyip.inputFloat(\"請輸入身高，單位為公分:\",min = 0)\n",
    "print(h)\n",
    "w = pyip.inputFloat(\"請輸入體重，單位為公斤:\",min = 0)\n",
    "print(w)\n",
    "bmi, message = getBMI(height=h,weight=w)\n",
    "print(f\"您的BMI是{bmi:.2f},{message}\")"
   ]
  },
  {
   "cell_type": "code",
   "execution_count": 3,
   "metadata": {},
   "outputs": [
    {
     "name": "stdout",
     "output_type": "stream",
     "text": [
      "c格式錯誤\n",
      "y格式錯誤\n",
      "格式錯誤\n",
      "格式錯誤\n",
      "格式錯誤\n"
     ]
    }
   ],
   "source": [
    "import pyinputplus as pyip\n",
    "\n",
    "def getBMI(height:float, weight:float) -> tuple[float,str]:\n",
    "    BMI = weight / (height*0.01)**2\n",
    "    message = \"\"\n",
    "    if BMI < 18.5:\n",
    "        message = \"「您的體重過輕」\"\n",
    "    elif BMI < 24:        \n",
    "        message = \"「您的體重正常」\"\n",
    "    \n",
    "    elif BMI < 27:        \n",
    "        message = \"「您的體重過重」\"\n",
    "\n",
    "    elif BMI < 30:        \n",
    "        message = \"「您的體重輕度肥胖」\"\n",
    "\n",
    "    elif BMI < 35:        \n",
    "        message = \"「您的體重中度肥胖」\"\n",
    "\n",
    "    else:        \n",
    "        message = \"「您的體重重度肥胖」\"\n",
    "\n",
    "    return (BMI,message)\n",
    "\n",
    "while(True):\n",
    "    a=input(\"請輸入y or n，輸入'n'離開:\")\n",
    "    try:\n",
    "            a=int(a)\n",
    "    except:\n",
    "            print(f\"{a}格式錯誤\")\n",
    "            continue\n",
    "    if(a==\"n\" ):\n",
    "        break\n",
    "    elif(a==\"y\" ):\n",
    "        \n",
    "        \n",
    "        h = pyip.inputFloat(\"請輸入身高，單位為公分:\",min = 0)\n",
    "        print(h)\n",
    "        w = pyip.inputFloat(\"請輸入體重，單位為公斤:\",min = 0)\n",
    "        print(w)\n",
    "        bmi, message = getBMI(height=h,weight=w)\n",
    "        print(f\"您的BMI是{bmi:.2f},{message}\")\n",
    "\n",
    "print(\"程式結束\")"
   ]
  }
 ],
 "metadata": {
  "kernelspec": {
   "display_name": "Python 3",
   "language": "python",
   "name": "python3"
  },
  "language_info": {
   "codemirror_mode": {
    "name": "ipython",
    "version": 3
   },
   "file_extension": ".py",
   "mimetype": "text/x-python",
   "name": "python",
   "nbconvert_exporter": "python",
   "pygments_lexer": "ipython3",
   "version": "3.10.13"
  }
 },
 "nbformat": 4,
 "nbformat_minor": 2
}
