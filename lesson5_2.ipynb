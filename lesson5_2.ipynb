{
 "cells": [
  {
   "cell_type": "code",
   "execution_count": 4,
   "metadata": {},
   "outputs": [
    {
     "name": "stdout",
     "output_type": "stream",
     "text": [
      "請輸入學生分數:270\n",
      "學生是否符合加分 (y or n)學生分數是284\n"
     ]
    }
   ],
   "source": [
    "import pyinputplus as pyip\n",
    "\n",
    "scor=pyip.inputInt(\"請輸入學生分數:\",min=0,max=300)\n",
    "print(scor)\n",
    "is_add = pyip.inputYesNo(\"學生是否符合加分 (y or n)\",yesVal=\"y\",noVal=\"n\",default=\"n\",blank=True)\n",
    "\n",
    "if(is_add==\"y\"):\n",
    "    scor *=1.05 \n",
    "    if scor>=300:\n",
    "        scor=300\n",
    "print(f\"學生分數是{round(scor)}\")\n",
    "\n"
   ]
  }
 ],
 "metadata": {
  "kernelspec": {
   "display_name": "Python 3",
   "language": "python",
   "name": "python3"
  },
  "language_info": {
   "codemirror_mode": {
    "name": "ipython",
    "version": 3
   },
   "file_extension": ".py",
   "mimetype": "text/x-python",
   "name": "python",
   "nbconvert_exporter": "python",
   "pygments_lexer": "ipython3",
   "version": "3.10.13"
  }
 },
 "nbformat": 4,
 "nbformat_minor": 2
}
