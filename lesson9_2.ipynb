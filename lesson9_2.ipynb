{
 "cells": [
  {
   "cell_type": "code",
   "execution_count": 5,
   "metadata": {},
   "outputs": [],
   "source": [
    "class Person: # self 設定\n",
    "    def __init__(self):\n",
    "        self.name = \"xxx\"\n",
    "        self.age = 0\n",
    "        print(\"執行初始化\")\n",
    "        pass"
   ]
  },
  {
   "cell_type": "code",
   "execution_count": 3,
   "metadata": {},
   "outputs": [
    {
     "name": "stdout",
     "output_type": "stream",
     "text": [
      "執行初始化\n",
      "xxx\n",
      "0\n"
     ]
    }
   ],
   "source": [
    "p1 = Person()\n",
    "print(p1.name)\n",
    "print(p1.age)"
   ]
  },
  {
   "cell_type": "code",
   "execution_count": null,
   "metadata": {},
   "outputs": [],
   "source": [
    "p2 = Person()\n",
    "print(p2.name)\n",
    "print(p2.age)"
   ]
  },
  {
   "cell_type": "code",
   "execution_count": 6,
   "metadata": {},
   "outputs": [],
   "source": [
    "class Person1:\n",
    "    def __init__(self,n,a):\n",
    "        self.name = n\n",
    "        self.age = a\n",
    "        print(\"執行初始化\")\n",
    "        pass"
   ]
  },
  {
   "cell_type": "code",
   "execution_count": 7,
   "metadata": {},
   "outputs": [
    {
     "name": "stdout",
     "output_type": "stream",
     "text": [
      "執行初始化\n",
      "余盈慶\n",
      "45\n"
     ]
    }
   ],
   "source": [
    "p1 = Person(\"余盈慶\",45)\n",
    "print(p1.name)\n",
    "print(p1.age)"
   ]
  },
  {
   "cell_type": "code",
   "execution_count": 8,
   "metadata": {},
   "outputs": [
    {
     "name": "stdout",
     "output_type": "stream",
     "text": [
      "執行初始化\n"
     ]
    }
   ],
   "source": [
    "class Person: # self 設定\n",
    "    # def __init__(self):\n",
    "        name = \"xxx\"\n",
    "        age = 0\n",
    "        print(\"執行初始化\")\n",
    "        pass"
   ]
  },
  {
   "cell_type": "code",
   "execution_count": 9,
   "metadata": {},
   "outputs": [
    {
     "name": "stdout",
     "output_type": "stream",
     "text": [
      "xxx\n",
      "0\n"
     ]
    }
   ],
   "source": [
    "p1 = Person()\n",
    "print(p1.name)\n",
    "print(p1.age)"
   ]
  }
 ],
 "metadata": {
  "kernelspec": {
   "display_name": "Python 3",
   "language": "python",
   "name": "python3"
  },
  "language_info": {
   "codemirror_mode": {
    "name": "ipython",
    "version": 3
   },
   "file_extension": ".py",
   "mimetype": "text/x-python",
   "name": "python",
   "nbconvert_exporter": "python",
   "pygments_lexer": "ipython3",
   "version": "3.10.13"
  }
 },
 "nbformat": 4,
 "nbformat_minor": 2
}
