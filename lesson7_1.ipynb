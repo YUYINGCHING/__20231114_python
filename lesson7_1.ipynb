{
 "cells": [
  {
   "cell_type": "code",
   "execution_count": null,
   "metadata": {},
   "outputs": [],
   "source": [
    "import pyinputplus as pyip\n",
    "\n",
    "a=pyip.inputInt(\"請輸入購買金額:\")\n",
    "print(a)\n",
    "\n",
    "if(a>=100000):\n",
    "    a=a*0.8\n",
    "    print(f\"實付金額是:{a}\")\n",
    "elif(a>=50000):\n",
    "    a=a*0.85\n",
    "    print(f\"實付金額是:{a}\")\n",
    "elif(a>=30000):\n",
    "    a=a*0.9\n",
    "    print(f\"實付金額是:{a}\")\n",
    "else:\n",
    "    a=a*0.95\n",
    "    print(f\"實付金額是:{a}\")"
   ]
  },
  {
   "cell_type": "code",
   "execution_count": null,
   "metadata": {},
   "outputs": [],
   "source": [
    "import pyinputplus as pyip\n",
    "height = pyip.inputFloat(\"請輸入身高，單位為公分:\",min = 0)\n",
    "print(height)\n",
    "weight = pyip.inputFloat(\"請輸入體重，單位為公斤:\",min = 0)\n",
    "print(weight)\n",
    "BMI = weight / (height*0.01)**2\n",
    "if BMI < 18.5:\n",
    "    print(f\"\\n您的BMI是{BMI:.5f}\\n「您的體重過輕」\")\n",
    "elif BMI < 24:\n",
    "    print(f\"\\n您的BMI是{BMI:.5f}\\n「您的體重正常」\")\n",
    "elif BMI < 27:\n",
    "    print(f\"\\n您的BMI是{BMI:.5f}\\n「您的體重過重」\")\n",
    "elif BMI < 30:\n",
    "    print(f\"\\n您的BMI是{BMI:.5f}\\n「您的體重輕度肥胖」\")\n",
    "elif BMI < 35:\n",
    "    print(f\"\\n您的BMI是{BMI:.5f}\\n「您的體重中度肥胖」\")\n",
    "else:\n",
    "    print(f\"\\n您的BMI是{BMI:.5f}\\n「您的體重重度肥胖」\")"
   ]
  },
  {
   "cell_type": "code",
   "execution_count": null,
   "metadata": {},
   "outputs": [],
   "source": [
    "import pyinputplus as pyip\n",
    "height = pyip.inputFloat(\"請輸入身高，單位為公分:\",min = 0)\n",
    "print(height)\n",
    "weight = pyip.inputFloat(\"請輸入體重，單位為公斤:\",min = 0)\n",
    "print(weight)\n",
    "BMI = weight / (height*0.01)**2\n",
    "if BMI < 18.5:\n",
    "    print(f\"\\n您的BMI是{BMI:.5f}\\n「您的體重過輕」\")\n",
    "elif BMI < 24:\n",
    "    print(f\"\\n您的BMI是{BMI:.5f}\\n「您的體重正常」\")\n",
    "elif BMI < 27:\n",
    "    print(f\"\\n您的BMI是{BMI:.5f}\\n「您的體重過重」\")\n",
    "elif BMI < 30:\n",
    "    print(f\"\\n您的BMI是{BMI:.5f}\\n「您的體重輕度肥胖」\")\n",
    "elif BMI < 35:\n",
    "    print(f\"\\n您的BMI是{BMI:.5f}\\n「您的體重中度肥胖」\")\n",
    "else:\n",
    "    print(f\"\\n您的BMI是{BMI:.5f}\\n「您的體重重度肥胖」\")"
   ]
  },
  {
   "cell_type": "code",
   "execution_count": null,
   "metadata": {},
   "outputs": [],
   "source": [
    "import pyinputplus as pyip\n",
    "\n",
    "a = pyip.inputInt(\"請輸入整數，求所有因數:\")\n",
    "print(a)\n",
    "print(f\"{a}的因數有:\",end=\"\")\n",
    "for i in range(1,a+1,+1):\n",
    "    b=a%i\n",
    "    if(b==0):\n",
    "        print(i,end=\" \")"
   ]
  },
  {
   "cell_type": "code",
   "execution_count": null,
   "metadata": {},
   "outputs": [],
   "source": [
    "#小明想要存錢買一輛機車,機車每輛30000元，他將每月存的錢輸入，當存款足夠買機車時，就顯示提示訊息告知。\n",
    "import pyinputplus as pyip\n",
    "deposit = 0\n",
    "month = 0\n",
    "while deposit < 30000:\n",
    "    month += 1\n",
    "    money_month = pyip.inputInt(f\"請輸入第{month}月份存款:\")    \n",
    "    print(money_month)\n",
    "    deposit += money_month\n",
    "\n",
    "print(f\"恭喜!已經存夠了,共存了{month}月份,總存款為:{deposit}\")"
   ]
  },
  {
   "cell_type": "code",
   "execution_count": null,
   "metadata": {},
   "outputs": [],
   "source": [
    "#輸入小寫的英文字,列印出第一個字大寫的英文字\n",
    "#如果輸入q,就會離開\n",
    "\n",
    "stuff = pyip.inputStr(\"請輸入小寫英文字[按q會離開]:\")\n",
    "while(stuff != 'q'):\n",
    "    print(stuff.capitalize())\n",
    "    stuff = pyip.inputStr(\"請輸入小寫英文字[按q會離開]:\")\n",
    "    \n",
    "print(\"結束程式\")"
   ]
  },
  {
   "cell_type": "code",
   "execution_count": null,
   "metadata": {},
   "outputs": [],
   "source": [
    "#輸入小寫的英文字,列印出第一個字大寫的英文字\n",
    "#如果輸入q,就會離開\n",
    "\n",
    "while(True):\n",
    "    stuff = pyip.inputStr(\"請輸入小寫英文字[按q會離開]:\")\n",
    "    if stuff == 'q':\n",
    "        break\n",
    "    print(stuff.capitalize())\n",
    "    \n",
    "    \n",
    "    \n",
    "print(\"結束程式\")"
   ]
  },
  {
   "cell_type": "code",
   "execution_count": null,
   "metadata": {},
   "outputs": [],
   "source": []
  }
 ],
 "metadata": {
  "language_info": {
   "name": "python"
  }
 },
 "nbformat": 4,
 "nbformat_minor": 2
}
