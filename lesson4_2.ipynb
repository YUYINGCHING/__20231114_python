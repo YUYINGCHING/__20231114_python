{
 "cells": [
  {
   "cell_type": "code",
   "execution_count": 1,
   "metadata": {},
   "outputs": [
    {
     "name": "stdout",
     "output_type": "stream",
     "text": [
      "這是true的城市區塊\n",
      "大於18\n",
      "程式結束\n"
     ]
    }
   ],
   "source": [
    "#if 的單向選擇\n",
    "\n",
    "a=21\n",
    "if a>18:\n",
    "    print(\"這是true的城市區塊\")\n",
    "    print(\"大於18\")\n",
    "print(\"程式結束\")"
   ]
  },
  {
   "cell_type": "code",
   "execution_count": 2,
   "metadata": {},
   "outputs": [
    {
     "name": "stdout",
     "output_type": "stream",
     "text": [
      "程式結束\n"
     ]
    }
   ],
   "source": [
    "a=17\n",
    "if a>18:\n",
    "    print(\"這是true的城市區塊\")\n",
    "    print(\"大於18\")\n",
    "print(\"程式結束\")"
   ]
  },
  {
   "cell_type": "code",
   "execution_count": 6,
   "metadata": {},
   "outputs": [
    {
     "name": "stdout",
     "output_type": "stream",
     "text": [
      "你已經成年\n",
      "你的age是:18\n",
      "你的age是:18\n"
     ]
    }
   ],
   "source": [
    "age=int(input(\"請輸入age:\"))\n",
    "\n",
    "if age>=18:\n",
    "    print(\"你已經成年\")\n",
    "    print(f\"你的age是:{age}\")\n",
    "else:\n",
    "    print(\"你尚未成年\")\n",
    "print(f\"你的age是:{age}\")"
   ]
  },
  {
   "cell_type": "code",
   "execution_count": 15,
   "metadata": {},
   "outputs": [
    {
     "name": "stdout",
     "output_type": "stream",
     "text": [
      "學生分數是300\n",
      "學生分數是300\n",
      "學生分數是300\n"
     ]
    }
   ],
   "source": [
    "\n",
    "# 學生總分300\n",
    "#有些學收可以加分5%\n",
    "#如果加分超過300分,就已300分為準 \n",
    "\n",
    "scor=int(input(\"請輸入學生分數:\"))\n",
    "if scor<=300:\n",
    "    is_add = input(\"學生是否符合加分 (y or n)\")\n",
    "\n",
    "if(is_add==\"y\"):\n",
    "    scor *=1.05 \n",
    "    if scor>=300:\n",
    "        scor=300\n",
    "else:\n",
    "    print(\"學生分數不可以大學300\")\n",
    "\n",
    "print(f\"學生分數是{scor:.0f}\")\n",
    "print(f\"學生分數是{int(scor)}\")\n",
    "print(f\"學生分數是{round(scor)}\")"
   ]
  }
 ],
 "metadata": {
  "kernelspec": {
   "display_name": "Python 3",
   "language": "python",
   "name": "python3"
  },
  "language_info": {
   "codemirror_mode": {
    "name": "ipython",
    "version": 3
   },
   "file_extension": ".py",
   "mimetype": "text/x-python",
   "name": "python",
   "nbconvert_exporter": "python",
   "pygments_lexer": "ipython3",
   "version": "3.10.13"
  }
 },
 "nbformat": 4,
 "nbformat_minor": 2
}
