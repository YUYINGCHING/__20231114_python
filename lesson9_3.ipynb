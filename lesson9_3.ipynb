{
 "cells": [
  {
   "cell_type": "code",
   "execution_count": 5,
   "metadata": {},
   "outputs": [],
   "source": [
    "class Student:\n",
    "    def __init__(self,n,c,e,m):\n",
    "        self.name = n\n",
    "        self.chinese = c\n",
    "        self.english = e\n",
    "        self.math = m\n",
    "\n",
    "    "
   ]
  },
  {
   "cell_type": "code",
   "execution_count": 6,
   "metadata": {},
   "outputs": [
    {
     "name": "stdout",
     "output_type": "stream",
     "text": [
      "余盈慶\n",
      "78\n",
      "92\n",
      "65\n"
     ]
    }
   ],
   "source": [
    "stu1 = Student(\"余盈慶\",78,92,65)\n",
    "print(stu1.name)\n",
    "print(stu1.chinese)\n",
    "print(stu1.english)\n",
    "print(stu1.math)"
   ]
  },
  {
   "cell_type": "code",
   "execution_count": 7,
   "metadata": {},
   "outputs": [],
   "source": [
    "class Student:\n",
    "    def __init__(self,n,c,e,m):\n",
    "        self.__name = n # __ 有底線 不可以取出及修改\n",
    "        self.chinese = c\n",
    "        self.english = e\n",
    "        self.math = m\n"
   ]
  },
  {
   "cell_type": "code",
   "execution_count": 9,
   "metadata": {},
   "outputs": [
    {
     "name": "stdout",
     "output_type": "stream",
     "text": [
      "78\n",
      "92\n",
      "65\n"
     ]
    }
   ],
   "source": [
    "stu1 = Student(\"余盈慶\",78,92,65)\n",
    "#print(stu1.__name)\n",
    "print(stu1.chinese)\n",
    "print(stu1.english)\n",
    "print(stu1.math)"
   ]
  },
  {
   "cell_type": "code",
   "execution_count": 10,
   "metadata": {},
   "outputs": [
    {
     "name": "stdout",
     "output_type": "stream",
     "text": [
      "100\n",
      "100\n",
      "100\n"
     ]
    }
   ],
   "source": [
    "# 沒有底線 可以修改\n",
    "stu1.chinese = 100\n",
    "stu1.english = 100\n",
    "stu1.math = 100 \n",
    "\n",
    "print(stu1.chinese)\n",
    "print(stu1.english)\n",
    "print(stu1.math)"
   ]
  },
  {
   "cell_type": "code",
   "execution_count": 39,
   "metadata": {},
   "outputs": [],
   "source": [
    "class Student:\n",
    "    def __init__(self,n,c,e,m):\n",
    "        self.__name = n # __ 有底線 不可以取出及修改\n",
    "        self.chinese = c\n",
    "        self.english = e\n",
    "        self.math = m\n",
    "    @property #property(屬性) 增加屬性 可以把__ 物象 取出 但不可以修改\n",
    "    def name(self):\n",
    "        return self.__name\n",
    "    \n",
    "    def sum(self): # 實體方法(methood)\n",
    "        return self.chinese+self.english+self.math\n",
    "    \n",
    "    def average(self): \n",
    "        return self.sum()/3.0\n",
    "    \n",
    "    def __repr__(self):\n",
    "        \n",
    "        description = f\"\"\"  \n",
    "        ...........{self.chinese}\n",
    "        ...........{self.english}\n",
    "        ..............{self.math}\n",
    "\n",
    "        \"\"\"\n",
    "        return description"
   ]
  },
  {
   "cell_type": "code",
   "execution_count": 43,
   "metadata": {},
   "outputs": [
    {
     "name": "stdout",
     "output_type": "stream",
     "text": [
      "余盈慶\n",
      "78\n",
      "92\n",
      "65\n",
      "235\n",
      "學生總分是:235\n",
      "學生總分平均是:78.33\n",
      "  \n",
      "        ...........78\n",
      "        ...........92\n",
      "        ..............65\n",
      "\n",
      "        \n"
     ]
    }
   ],
   "source": [
    "stu1 = Student(\"余盈慶\",78,92,65)\n",
    "print(stu1.name)\n",
    "print(stu1.chinese)\n",
    "print(stu1.english)\n",
    "print(stu1.math)\n",
    "print(stu1.sum())\n",
    "print(f\"學生總分是:{stu1.sum()}\")\n",
    "print(f\"學生總分平均是:{stu1.average():.2f}\")\n",
    "print(stu1)"
   ]
  },
  {
   "cell_type": "code",
   "execution_count": 44,
   "metadata": {},
   "outputs": [
    {
     "name": "stdout",
     "output_type": "stream",
     "text": [
      "余盈慶\n",
      "100\n",
      "100\n",
      "100\n",
      "300\n",
      "學生總分是:300\n",
      "學生總分平均是:100.000\n",
      "  \n",
      "        ...........100\n",
      "        ...........100\n",
      "        ..............100\n",
      "\n",
      "        \n"
     ]
    }
   ],
   "source": [
    "# 沒有底線 可以修改\n",
    "# stu1.name = 余盈慶 @property 可以取出不可以修改\n",
    "stu1.chinese = 100\n",
    "stu1.english = 100\n",
    "stu1.math = 100 \n",
    "\n",
    "print(stu1.name)\n",
    "print(stu1.chinese)\n",
    "print(stu1.english)\n",
    "print(stu1.math)\n",
    "print(stu1.sum())\n",
    "print(f\"學生總分是:{stu1.sum()}\")\n",
    "print(f\"學生總分平均是:{stu1.average():.3f}\")\n",
    "print(stu1)"
   ]
  },
  {
   "cell_type": "code",
   "execution_count": 45,
   "metadata": {},
   "outputs": [
    {
     "name": "stdout",
     "output_type": "stream",
     "text": [
      "余婕瑄\n",
      "78\n",
      "92\n",
      "65\n",
      "235\n",
      "學生總分是:235\n",
      "學生總分平均是:78.33\n",
      "  \n",
      "        ...........78\n",
      "        ...........92\n",
      "        ..............65\n",
      "\n",
      "        \n"
     ]
    }
   ],
   "source": [
    "stu2 = Student(\"余婕瑄\",78,92,65)\n",
    "print(stu2.name)\n",
    "print(stu2.chinese)\n",
    "print(stu2.english)\n",
    "print(stu2.math)\n",
    "print(stu2.sum())\n",
    "print(f\"學生總分是:{stu2.sum()}\")\n",
    "print(f\"學生總分平均是:{stu2.average():.2f}\")\n",
    "print(stu2)"
   ]
  },
  {
   "cell_type": "code",
   "execution_count": null,
   "metadata": {},
   "outputs": [],
   "source": [
    "class Student:\n",
    "    def __init__(self,n,c,e,m):\n",
    "        self.__name = n # __ 有底線 不可以取出及修改\n",
    "        self.chinese = c\n",
    "        self.english = e\n",
    "        self.math = m\n",
    "    @property #property(屬性) 增加屬性 可以把__ 物象 取出 但不可以修改\n",
    "    def name(self):\n",
    "        return self.__name\n",
    "    \n",
    "    def sum(self): # 實體方法(methood)\n",
    "        return self.chinese+self.english+self.math\n",
    "    \n",
    "    def average(self): \n",
    "        return self.sum()/3.0\n",
    "    \n",
    "    def __repr__(self):\n",
    "        description = \"\"\n",
    "        description += '我是Student的實體\\n'\n",
    "        description += f'name是{self.name}\\n'\n",
    "        description += f'chinese是{self.chinese}\\n'\n",
    "        description += f'english是{self.english}\\n'\n",
    "        description += f'math是{self.math}\\n'\n",
    "        return description"
   ]
  }
 ],
 "metadata": {
  "kernelspec": {
   "display_name": "Python 3",
   "language": "python",
   "name": "python3"
  },
  "language_info": {
   "codemirror_mode": {
    "name": "ipython",
    "version": 3
   },
   "file_extension": ".py",
   "mimetype": "text/x-python",
   "name": "python",
   "nbconvert_exporter": "python",
   "pygments_lexer": "ipython3",
   "version": "3.10.13"
  }
 },
 "nbformat": 4,
 "nbformat_minor": 2
}
