{
 "cells": [
  {
   "cell_type": "code",
   "execution_count": 3,
   "metadata": {},
   "outputs": [],
   "source": [
    "# 使用input(),請使用者自行輸入值\n",
    "n=int(input(\"請輸入n值\"))\n",
    "m=int(input(\"請輸入m值\"))\n",
    "total=n+m"
   ]
  },
  {
   "cell_type": "code",
   "execution_count": 3,
   "metadata": {},
   "outputs": [
    {
     "name": "stdout",
     "output_type": "stream",
     "text": [
      "3.15 + 4.567 = 7.7170000000000005\n"
     ]
    }
   ],
   "source": [
    "# 使用eval(),可以把float & int 互相轉換\n",
    "n=eval(input(\"請輸入n值\"))\n",
    "m=eval(input(\"請輸入m值\"))\n",
    "total=n+m\n",
    "print(n,\"+\",m ,\"=\" ,total)\n",
    "#字串差補\n",
    "print(f\"{n}+{m}={total}\")\n",
    "# 把限制小數位數\n",
    "print(f\"{n}+{m}={total:.2f}\")"
   ]
  },
  {
   "cell_type": "code",
   "execution_count": 4,
   "metadata": {},
   "outputs": [
    {
     "name": "stdout",
     "output_type": "stream",
     "text": [
      "3\n",
      "3 5 3.145\n"
     ]
    }
   ],
   "source": [
    "#1 一個引數值\n",
    "print(3)\n",
    "#多個引數值\n",
    "print(3,\"5\",3.145)"
   ]
  },
  {
   "cell_type": "code",
   "execution_count": null,
   "metadata": {},
   "outputs": [],
   "source": [
    "print()"
   ]
  }
 ],
 "metadata": {
  "kernelspec": {
   "display_name": "Python 3",
   "language": "python",
   "name": "python3"
  },
  "language_info": {
   "codemirror_mode": {
    "name": "ipython",
    "version": 3
   },
   "file_extension": ".py",
   "mimetype": "text/x-python",
   "name": "python",
   "nbconvert_exporter": "python",
   "pygments_lexer": "ipython3",
   "version": "3.10.13"
  }
 },
 "nbformat": 4,
 "nbformat_minor": 2
}
