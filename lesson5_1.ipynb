{
 "cells": [
  {
   "cell_type": "code",
   "execution_count": 2,
   "metadata": {},
   "outputs": [
    {
     "ename": "SyntaxError",
     "evalue": "invalid decimal literal (<string>, line 1)",
     "output_type": "error",
     "traceback": [
      "Traceback \u001b[0;36m(most recent call last)\u001b[0m:\n",
      "\u001b[0m  File \u001b[1;32m~/.local/lib/python3.10/site-packages/IPython/core/interactiveshell.py:3548\u001b[0m in \u001b[1;35mrun_code\u001b[0m\n    exec(code_obj, self.user_global_ns, self.user_ns)\u001b[0m\n",
      "\u001b[0;36m  Cell \u001b[0;32mIn[2], line 1\u001b[0;36m\n\u001b[0;31m    money=eval(input(\"請輸入金額\")) #eval 可以顯示整數 & 浮點數\u001b[0;36m\n",
      "\u001b[0;36m  File \u001b[0;32m<string>:1\u001b[0;36m\u001b[0m\n\u001b[0;31m    25a\u001b[0m\n\u001b[0m     ^\u001b[0m\n\u001b[0;31mSyntaxError\u001b[0m\u001b[0;31m:\u001b[0m invalid decimal literal\n"
     ]
    }
   ],
   "source": [
    "money=eval(input(\"請輸入金額\")) #eval 可以顯示整數 & 浮點數\n",
    "print(money)\n",
    "# 輸入時非數值"
   ]
  },
  {
   "cell_type": "code",
   "execution_count": 3,
   "metadata": {},
   "outputs": [
    {
     "ename": "ValueError",
     "evalue": "invalid literal for int() with base 10: '25.5'",
     "output_type": "error",
     "traceback": [
      "\u001b[0;31m---------------------------------------------------------------------------\u001b[0m",
      "\u001b[0;31mValueError\u001b[0m                                Traceback (most recent call last)",
      "\u001b[1;32m/workspaces/__20231114_python/lesson5_1.ipynb 儲存格 2\u001b[0m line \u001b[0;36m1\n\u001b[0;32m----> <a href='vscode-notebook-cell://codespaces%2Bsymmetrical-bassoon-r46wpx969xvh5rv4/workspaces/__20231114_python/lesson5_1.ipynb#W1sdnNjb2RlLXJlbW90ZQ%3D%3D?line=0'>1</a>\u001b[0m money\u001b[39m=\u001b[39m\u001b[39mint\u001b[39;49m(\u001b[39minput\u001b[39;49m(\u001b[39m\"\u001b[39;49m\u001b[39m請輸入金額\u001b[39;49m\u001b[39m\"\u001b[39;49m)) \u001b[39m#eval 可以顯示整數 & 浮點數\u001b[39;00m\n\u001b[1;32m      <a href='vscode-notebook-cell://codespaces%2Bsymmetrical-bassoon-r46wpx969xvh5rv4/workspaces/__20231114_python/lesson5_1.ipynb#W1sdnNjb2RlLXJlbW90ZQ%3D%3D?line=1'>2</a>\u001b[0m \u001b[39mprint\u001b[39m(money)\n\u001b[1;32m      <a href='vscode-notebook-cell://codespaces%2Bsymmetrical-bassoon-r46wpx969xvh5rv4/workspaces/__20231114_python/lesson5_1.ipynb#W1sdnNjb2RlLXJlbW90ZQ%3D%3D?line=2'>3</a>\u001b[0m \u001b[39m# 輸入時非數值\u001b[39;00m\n",
      "\u001b[0;31mValueError\u001b[0m: invalid literal for int() with base 10: '25.5'"
     ]
    }
   ],
   "source": [
    "# 處理rasie Exception\n",
    "try:\n",
    "    money=int(input(\"請輸入金額\")) \n",
    "    print(money)\n",
    "except:\n",
    "    print(\"輸入格式有問題\")\n",
    "\n",
    "print(\"應用程式結束\")\n"
   ]
  },
  {
   "cell_type": "code",
   "execution_count": null,
   "metadata": {},
   "outputs": [],
   "source": [
    "# 處理rasie Exception\n",
    "try:\n",
    "    money=int(input(\"請輸入金額\")) \n",
    "    f1=eval(input(\"請輸入浮點數:\"))\n",
    "    raise KeyboardInterrupt\n",
    "    print(money)\n",
    "except SyntaxError:\n",
    "    print(\"輸入浮點數時有問題\")\n",
    "except ValueError:\n",
    "    print(\"輸入金額有問題\")\n",
    "except :\n",
    "    print(\"不知名的錯誤\")\n",
    "\n",
    "print(\"應用程式結束\")"
   ]
  },
  {
   "cell_type": "code",
   "execution_count": null,
   "metadata": {},
   "outputs": [],
   "source": [
    "# 處理rasie Exception\n",
    "try:\n",
    "    money=int(input(\"請輸入金額\")) \n",
    "    f1=eval(input(\"請輸入浮點數:\"))\n",
    "    \n",
    "except SyntaxError:\n",
    "    print(\"輸入浮點數時有問題\")\n",
    "except ValueError:\n",
    "    print(\"輸入金額有問題\")\n",
    "except :\n",
    "    print(\"不知名的錯誤\")\n",
    "else :\n",
    "    print(money)\n",
    "    print(f1)\n",
    "\n",
    "print(\"應用程式結束\")"
   ]
  },
  {
   "cell_type": "code",
   "execution_count": 14,
   "metadata": {},
   "outputs": [
    {
     "name": "stdout",
     "output_type": "stream",
     "text": [
      "學生分數不可以大學300\n",
      "學生分數是305\n",
      "學生分數是305\n",
      "學生分數是305\n"
     ]
    }
   ],
   "source": [
    "# 學生總分300\n",
    "#有些學收可以加分5%\n",
    "#要檢查否輸入格式是否正確\n",
    "#如果加分超過300分,就已300分為準 \n",
    "try:\n",
    "    scor=int(input(\"請輸入學生分數:\"))\n",
    "except ValueError:\n",
    "    print(\"格式有錯誤\")\n",
    "except:\n",
    "    print(\"不知名的錯誤\")\n",
    "else:\n",
    "    if scor<300:\n",
    "        is_add = input(\"學生是否符合加分 (y or n)\")\n",
    "\n",
    "        if(is_add==\"y\"):\n",
    "            scor *=1.05 \n",
    "            if scor>=300:\n",
    "                scor=300\n",
    "            print(f\"學生分數是{round(scor)}\")\n",
    "    else:\n",
    "            print(\"學生分數不可以大學300\")\n",
    "\n",
    "# print(f\"學生分數是{scor:.0f}\")\n",
    "# print(f\"學生分數是{int(scor)}\")\n",
    "# print(f\"學生分數是{round(scor)}\")"
   ]
  }
 ],
 "metadata": {
  "kernelspec": {
   "display_name": "Python 3",
   "language": "python",
   "name": "python3"
  },
  "language_info": {
   "codemirror_mode": {
    "name": "ipython",
    "version": 3
   },
   "file_extension": ".py",
   "mimetype": "text/x-python",
   "name": "python",
   "nbconvert_exporter": "python",
   "pygments_lexer": "ipython3",
   "version": "3.10.13"
  }
 },
 "nbformat": 4,
 "nbformat_minor": 2
}
