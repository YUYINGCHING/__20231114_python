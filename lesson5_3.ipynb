{
 "cells": [
  {
   "cell_type": "code",
   "execution_count": 4,
   "metadata": {},
   "outputs": [
    {
     "name": "stdout",
     "output_type": "stream",
     "text": [
      "請輸入學生分數(1~100):優\n"
     ]
    }
   ],
   "source": [
    "#請輸入學生分數0~100\n",
    "#0~59 不及格\n",
    "#60~79 及格\n",
    "#80~100 優\n",
    "\n",
    "import pyinputplus as pyip\n",
    "scor = pyip.inputInt(\"請輸入學生分數(1~100):\",max=100,min=0)\n",
    "\n",
    "if scor<60:\n",
    "    print(\"不及格\")\n",
    "else :\n",
    "    if scor<80:\n",
    "        print(\"及格\")\n",
    "    else:\n",
    "        print(\"優\")"
   ]
  },
  {
   "cell_type": "code",
   "execution_count": 9,
   "metadata": {},
   "outputs": [
    {
     "name": "stdout",
     "output_type": "stream",
     "text": [
      "請輸入學生分數(1~100):\n",
      "85 \n",
      "\n",
      "優\n"
     ]
    }
   ],
   "source": [
    "import pyinputplus as pyip\n",
    "scor = pyip.inputInt(\"請輸入學生分數(1~100):\\n\",max=100,min=0)\n",
    "print(scor,\"\\n\")\n",
    "if scor<60:\n",
    "    print(\"不及格\")\n",
    "elif scor<80:\n",
    "    print(\"及格\")\n",
    "else:\n",
    "        print(\"優\")"
   ]
  },
  {
   "cell_type": "code",
   "execution_count": 10,
   "metadata": {},
   "outputs": [],
   "source": [
    "#90 (含)~100分為\"優\"\n",
    "#80 (含)~90分為\"甲\"\n",
    "#70 (含)~80分為\"乙\"\n",
    "#60 (含)~70分為\"丙\"\n",
    "#0 (含)~59分為\"丁\"\n",
    "\n",
    "import pyinputplus as pyip\n",
    "\n",
    "scor=pyip.inputInt(\"請書樹學生分數(1~100):\"max=100,min=0)\n",
    "print(scor)\n",
    "\n",
    "if scor<60:\n",
    "    print(\"丁\")\n",
    "elif scor<70:\n",
    "    print(\"丙\")\n",
    "elif scor<80:\n",
    "    print(\"乙\")\n",
    "elif scor<90:\n",
    "    print(\"甲\")\n",
    "else :\n",
    "    print(\"優\")"
   ]
  },
  {
   "cell_type": "code",
   "execution_count": null,
   "metadata": {},
   "outputs": [],
   "source": [
    "#90 (含)~100分為\"優\"\n",
    "#80 (含)~90分為\"甲\"\n",
    "#70 (含)~80分為\"乙\"\n",
    "#60 (含)~70分為\"丙\"\n",
    "#0 (含)~59分為\"丁\"\n",
    "\n",
    "import pyinputplus as pyip\n",
    "\n",
    "scor=pyip.inputInt(\"請書樹學生分數(1~100):\"max=100,min=0)\n",
    "print(scor)\n",
    "\n",
    "if scor>90:\n",
    "    print(\"優\")\n",
    "elif scor>80:\n",
    "    print(\"甲\")\n",
    "elif scor>70:\n",
    "    print(\"乙\")\n",
    "elif scor>=60:\n",
    "    print(\"丙\")\n",
    "else :\n",
    "    print(\"丁\")"
   ]
  }
 ],
 "metadata": {
  "kernelspec": {
   "display_name": "Python 3",
   "language": "python",
   "name": "python3"
  },
  "language_info": {
   "codemirror_mode": {
    "name": "ipython",
    "version": 3
   },
   "file_extension": ".py",
   "mimetype": "text/x-python",
   "name": "python",
   "nbconvert_exporter": "python",
   "pygments_lexer": "ipython3",
   "version": "3.10.13"
  }
 },
 "nbformat": 4,
 "nbformat_minor": 2
}
